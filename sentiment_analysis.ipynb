{
  "nbformat": 4,
  "nbformat_minor": 0,
  "metadata": {
    "colab": {
      "name": "Untitled1.ipynb",
      "provenance": [],
      "collapsed_sections": []
    },
    "kernelspec": {
      "name": "python3",
      "display_name": "Python 3"
    }
  },
  "cells": [
    {
      "cell_type": "code",
      "metadata": {
        "id": "4GCnS_RLGlfo",
        "colab": {
          "base_uri": "https://localhost:8080/"
        },
        "outputId": "3db3eec6-34b1-4838-f4f1-5154d8ffcaf9"
      },
      "source": [
        "import pandas as pd\n",
        "\n",
        "from sklearn.feature_extraction.text import CountVectorizer\n",
        "\n",
        "from sklearn.model_selection import train_test_split, GridSearchCV\n",
        "\n",
        "from sklearn.linear_model import LinearRegression\n",
        "\n",
        "from sklearn.linear_model import LogisticRegression \n",
        "from sklearn.preprocessing import StandardScaler\n",
        "import re\n",
        "\n",
        "from nltk.corpus import stopwords\n",
        "\n",
        "from nltk.stem import WordNetLemmatizer\n",
        "\n",
        "from sklearn.utils import shuffle\n",
        "\n",
        "from sklearn.metrics import confusion_matrix, f1_score, precision_score,recall_score\n",
        "import nltk\n",
        "nltk.download('stopwords')\n",
        "nltk.download('wordnet')\n",
        "import pandas as pd\n",
        "import numpy as np\n",
        "import plotly.express as px\n",
        "from plotly.offline import iplot\n",
        "import plotly.graph_objs as go\n",
        "import sklearn\n",
        "import psutil\n",
        "import requests"
      ],
      "execution_count": null,
      "outputs": [
        {
          "output_type": "stream",
          "text": [
            "[nltk_data] Downloading package stopwords to /root/nltk_data...\n",
            "[nltk_data]   Unzipping corpora/stopwords.zip.\n",
            "[nltk_data] Downloading package wordnet to /root/nltk_data...\n",
            "[nltk_data]   Unzipping corpora/wordnet.zip.\n"
          ],
          "name": "stdout"
        }
      ]
    },
    {
      "cell_type": "code",
      "metadata": {
        "id": "L_VxHmTyHKrN"
      },
      "source": [
        "wordnet_lemmatizer =WordNetLemmatizer()\n",
        "\n",
        "df=pd.read_csv('Tweets.csv')\n",
        "print(df.iloc[1].text)\n",
        "\n",
        "def normalizer (tweet):\n",
        "\n",
        "  only_letters = re.sub(\"[^a-zA-Z]\", \" \", tweet)\n",
        "  only_letters = only_letters.lower()\n",
        "  only_letters = only_letters.split()\n",
        "  filtered_result = [word for word in only_letters if word not in stopwords.words('english')]\n",
        "  lemmas = [wordnet_lemmatizer.lemmatize(t) for t in filtered_result]\n",
        "  lemmas =' '.join(lemmas)\n",
        "  return lemmas"
      ],
      "execution_count": null,
      "outputs": []
    },
    {
      "cell_type": "code",
      "metadata": {
        "id": "ECJ3eGH3IV8l",
        "colab": {
          "base_uri": "https://localhost:8080/",
          "height": 942
        },
        "outputId": "6e868a7f-3b80-4335-9887-415b6d0567b4"
      },
      "source": [
        "df =shuffle(df)\n",
        "y=df['airline_sentiment'] \n",
        "x=df.text.apply(normalizer)\n",
        "df['text'].apply(lambda x: np.str_(x))\n",
        "df"
      ],
      "execution_count": null,
      "outputs": [
        {
          "output_type": "execute_result",
          "data": {
            "text/html": [
              "<div>\n",
              "<style scoped>\n",
              "    .dataframe tbody tr th:only-of-type {\n",
              "        vertical-align: middle;\n",
              "    }\n",
              "\n",
              "    .dataframe tbody tr th {\n",
              "        vertical-align: top;\n",
              "    }\n",
              "\n",
              "    .dataframe thead th {\n",
              "        text-align: right;\n",
              "    }\n",
              "</style>\n",
              "<table border=\"1\" class=\"dataframe\">\n",
              "  <thead>\n",
              "    <tr style=\"text-align: right;\">\n",
              "      <th></th>\n",
              "      <th>tweet_id</th>\n",
              "      <th>airline_sentiment</th>\n",
              "      <th>airline_sentiment_confidence</th>\n",
              "      <th>negativereason</th>\n",
              "      <th>negativereason_confidence</th>\n",
              "      <th>airline</th>\n",
              "      <th>airline_sentiment_gold</th>\n",
              "      <th>name</th>\n",
              "      <th>negativereason_gold</th>\n",
              "      <th>retweet_count</th>\n",
              "      <th>text</th>\n",
              "      <th>tweet_coord</th>\n",
              "      <th>tweet_created</th>\n",
              "      <th>tweet_location</th>\n",
              "      <th>user_timezone</th>\n",
              "    </tr>\n",
              "  </thead>\n",
              "  <tbody>\n",
              "    <tr>\n",
              "      <th>6738</th>\n",
              "      <td>567688411289755648</td>\n",
              "      <td>negative</td>\n",
              "      <td>1.0000</td>\n",
              "      <td>Cancelled Flight</td>\n",
              "      <td>0.6466</td>\n",
              "      <td>Southwest</td>\n",
              "      <td>NaN</td>\n",
              "      <td>kabell87</td>\n",
              "      <td>NaN</td>\n",
              "      <td>0</td>\n",
              "      <td>@SouthwestAir flight was Cancelled Flightled a...</td>\n",
              "      <td>NaN</td>\n",
              "      <td>2015-02-17 06:13:59 -0800</td>\n",
              "      <td>NaN</td>\n",
              "      <td>NaN</td>\n",
              "    </tr>\n",
              "    <tr>\n",
              "      <th>13722</th>\n",
              "      <td>569735461033213952</td>\n",
              "      <td>negative</td>\n",
              "      <td>1.0000</td>\n",
              "      <td>Customer Service Issue</td>\n",
              "      <td>0.6381</td>\n",
              "      <td>American</td>\n",
              "      <td>NaN</td>\n",
              "      <td>cofc98grad</td>\n",
              "      <td>NaN</td>\n",
              "      <td>0</td>\n",
              "      <td>@AmericanAir have been waiting over THREE hour...</td>\n",
              "      <td>NaN</td>\n",
              "      <td>2015-02-22 21:48:13 -0800</td>\n",
              "      <td>NaN</td>\n",
              "      <td>NaN</td>\n",
              "    </tr>\n",
              "    <tr>\n",
              "      <th>8566</th>\n",
              "      <td>568159714737049601</td>\n",
              "      <td>neutral</td>\n",
              "      <td>0.6600</td>\n",
              "      <td>NaN</td>\n",
              "      <td>0.0000</td>\n",
              "      <td>Delta</td>\n",
              "      <td>NaN</td>\n",
              "      <td>kbosspotter</td>\n",
              "      <td>NaN</td>\n",
              "      <td>0</td>\n",
              "      <td>@JetBlue my mom wanted me to change her seat a...</td>\n",
              "      <td>NaN</td>\n",
              "      <td>2015-02-18 13:26:46 -0800</td>\n",
              "      <td>Logan International Airport</td>\n",
              "      <td>Atlantic Time (Canada)</td>\n",
              "    </tr>\n",
              "    <tr>\n",
              "      <th>14101</th>\n",
              "      <td>569666687253008384</td>\n",
              "      <td>negative</td>\n",
              "      <td>1.0000</td>\n",
              "      <td>Late Flight</td>\n",
              "      <td>0.6749</td>\n",
              "      <td>American</td>\n",
              "      <td>NaN</td>\n",
              "      <td>agoldenbrown</td>\n",
              "      <td>NaN</td>\n",
              "      <td>0</td>\n",
              "      <td>@AmericanAir #flight293 was supposed to depart...</td>\n",
              "      <td>NaN</td>\n",
              "      <td>2015-02-22 17:14:56 -0800</td>\n",
              "      <td>NYCATL</td>\n",
              "      <td>Eastern Time (US &amp; Canada)</td>\n",
              "    </tr>\n",
              "    <tr>\n",
              "      <th>5490</th>\n",
              "      <td>568948848263081986</td>\n",
              "      <td>positive</td>\n",
              "      <td>1.0000</td>\n",
              "      <td>NaN</td>\n",
              "      <td>NaN</td>\n",
              "      <td>Southwest</td>\n",
              "      <td>NaN</td>\n",
              "      <td>nicoleschmied</td>\n",
              "      <td>NaN</td>\n",
              "      <td>0</td>\n",
              "      <td>@SouthwestAir thx for smooth landing today @fl...</td>\n",
              "      <td>NaN</td>\n",
              "      <td>2015-02-20 17:42:30 -0800</td>\n",
              "      <td>Chicagoland</td>\n",
              "      <td>Central Time (US &amp; Canada)</td>\n",
              "    </tr>\n",
              "    <tr>\n",
              "      <th>...</th>\n",
              "      <td>...</td>\n",
              "      <td>...</td>\n",
              "      <td>...</td>\n",
              "      <td>...</td>\n",
              "      <td>...</td>\n",
              "      <td>...</td>\n",
              "      <td>...</td>\n",
              "      <td>...</td>\n",
              "      <td>...</td>\n",
              "      <td>...</td>\n",
              "      <td>...</td>\n",
              "      <td>...</td>\n",
              "      <td>...</td>\n",
              "      <td>...</td>\n",
              "      <td>...</td>\n",
              "    </tr>\n",
              "    <tr>\n",
              "      <th>1488</th>\n",
              "      <td>569700247275876352</td>\n",
              "      <td>negative</td>\n",
              "      <td>1.0000</td>\n",
              "      <td>Can't Tell</td>\n",
              "      <td>0.6704</td>\n",
              "      <td>United</td>\n",
              "      <td>NaN</td>\n",
              "      <td>ChrisPinTX</td>\n",
              "      <td>NaN</td>\n",
              "      <td>1</td>\n",
              "      <td>@united time to give up my 1K status and switc...</td>\n",
              "      <td>NaN</td>\n",
              "      <td>2015-02-22 19:28:18 -0800</td>\n",
              "      <td>NaN</td>\n",
              "      <td>Central Time (US &amp; Canada)</td>\n",
              "    </tr>\n",
              "    <tr>\n",
              "      <th>11341</th>\n",
              "      <td>568192271453188096</td>\n",
              "      <td>negative</td>\n",
              "      <td>1.0000</td>\n",
              "      <td>Can't Tell</td>\n",
              "      <td>0.3635</td>\n",
              "      <td>US Airways</td>\n",
              "      <td>NaN</td>\n",
              "      <td>mma718</td>\n",
              "      <td>NaN</td>\n",
              "      <td>0</td>\n",
              "      <td>@USAirways I don't think I've ever had a us ai...</td>\n",
              "      <td>NaN</td>\n",
              "      <td>2015-02-18 15:36:08 -0800</td>\n",
              "      <td>Queens, New York</td>\n",
              "      <td>NaN</td>\n",
              "    </tr>\n",
              "    <tr>\n",
              "      <th>8428</th>\n",
              "      <td>568380749495164929</td>\n",
              "      <td>neutral</td>\n",
              "      <td>1.0000</td>\n",
              "      <td>NaN</td>\n",
              "      <td>NaN</td>\n",
              "      <td>Delta</td>\n",
              "      <td>NaN</td>\n",
              "      <td>JetBlueNews</td>\n",
              "      <td>NaN</td>\n",
              "      <td>0</td>\n",
              "      <td>@JetBlue Gains Altitude, But SkyWest Hits Turb...</td>\n",
              "      <td>NaN</td>\n",
              "      <td>2015-02-19 04:05:05 -0800</td>\n",
              "      <td>USA</td>\n",
              "      <td>Sydney</td>\n",
              "    </tr>\n",
              "    <tr>\n",
              "      <th>3885</th>\n",
              "      <td>568049646062444544</td>\n",
              "      <td>negative</td>\n",
              "      <td>1.0000</td>\n",
              "      <td>Customer Service Issue</td>\n",
              "      <td>0.6904</td>\n",
              "      <td>United</td>\n",
              "      <td>NaN</td>\n",
              "      <td>zackintheusa</td>\n",
              "      <td>NaN</td>\n",
              "      <td>1</td>\n",
              "      <td>@united just give up.  Your service is terribl...</td>\n",
              "      <td>NaN</td>\n",
              "      <td>2015-02-18 06:09:24 -0800</td>\n",
              "      <td>columbus, oh</td>\n",
              "      <td>Central Time (US &amp; Canada)</td>\n",
              "    </tr>\n",
              "    <tr>\n",
              "      <th>2756</th>\n",
              "      <td>568917936783491073</td>\n",
              "      <td>negative</td>\n",
              "      <td>0.6633</td>\n",
              "      <td>Can't Tell</td>\n",
              "      <td>0.3367</td>\n",
              "      <td>United</td>\n",
              "      <td>NaN</td>\n",
              "      <td>jayw329</td>\n",
              "      <td>NaN</td>\n",
              "      <td>0</td>\n",
              "      <td>@united already Flight Booking Problems next w...</td>\n",
              "      <td>NaN</td>\n",
              "      <td>2015-02-20 15:39:40 -0800</td>\n",
              "      <td>New York, NY</td>\n",
              "      <td>Eastern Time (US &amp; Canada)</td>\n",
              "    </tr>\n",
              "  </tbody>\n",
              "</table>\n",
              "<p>14640 rows × 15 columns</p>\n",
              "</div>"
            ],
            "text/plain": [
              "                 tweet_id  ...               user_timezone\n",
              "6738   567688411289755648  ...                         NaN\n",
              "13722  569735461033213952  ...                         NaN\n",
              "8566   568159714737049601  ...      Atlantic Time (Canada)\n",
              "14101  569666687253008384  ...  Eastern Time (US & Canada)\n",
              "5490   568948848263081986  ...  Central Time (US & Canada)\n",
              "...                   ...  ...                         ...\n",
              "1488   569700247275876352  ...  Central Time (US & Canada)\n",
              "11341  568192271453188096  ...                         NaN\n",
              "8428   568380749495164929  ...                      Sydney\n",
              "3885   568049646062444544  ...  Central Time (US & Canada)\n",
              "2756   568917936783491073  ...  Eastern Time (US & Canada)\n",
              "\n",
              "[14640 rows x 15 columns]"
            ]
          },
          "metadata": {
            "tags": []
          },
          "execution_count": 4
        }
      ]
    },
    {
      "cell_type": "code",
      "metadata": {
        "id": "MlomnqgoIkhz"
      },
      "source": [
        "\n",
        "import numpy as np\n",
        "vectorizer = CountVectorizer()\n",
        "x_vectorized = vectorizer.fit_transform(x)"
      ],
      "execution_count": null,
      "outputs": []
    },
    {
      "cell_type": "code",
      "metadata": {
        "id": "qnBvig_1IueT"
      },
      "source": [
        "train_x, val_x, train_y, val_y=train_test_split(x_vectorized,y)"
      ],
      "execution_count": null,
      "outputs": []
    },
    {
      "cell_type": "code",
      "metadata": {
        "id": "y4zBwSttI00r"
      },
      "source": [
        "regressor =LogisticRegression(multi_class='multinomial', solver='newton-cg') \n",
        "model=regressor.fit(train_x, train_y)"
      ],
      "execution_count": null,
      "outputs": []
    },
    {
      "cell_type": "code",
      "metadata": {
        "id": "N3DvVuPAJA-7"
      },
      "source": [
        "params ={'C': [0.001, 0.01,0.1, 1, 10, 100, 1000]}\n",
        "gs_clf = GridSearchCV(model, params, n_jobs=1, cv=5) \n",
        "gs_clf =gs_clf.fit(train_x, train_y) \n",
        "model =gs_clf.best_estimator_"
      ],
      "execution_count": null,
      "outputs": []
    },
    {
      "cell_type": "code",
      "metadata": {
        "id": "a6QGQSTqJmI8"
      },
      "source": [
        " y_pred =model.predict(val_x)\n",
        " y_pred = model.predict(val_x)\n",
        "_f1 = f1_score(val_y, y_pred, average='micro')\n",
        "_confusion = confusion_matrix(val_y, y_pred)\n",
        "_precision = precision_score(val_y, y_pred, average='micro') \n",
        "_recall = recall_score(val_y, y_pred, average='micro')\n",
        "_statistics = {'f1_score': _f1,\n",
        "               'confusion_matrix': _confusion, \n",
        "                'precision':_precision,\n",
        "                'recall':_recall\n",
        "              }"
      ],
      "execution_count": null,
      "outputs": []
    },
    {
      "cell_type": "code",
      "metadata": {
        "id": "RyqkPzy0KPKE"
      },
      "source": [
        "print(_statistics)"
      ],
      "execution_count": null,
      "outputs": []
    },
    {
      "cell_type": "code",
      "metadata": {
        "id": "5L55QmxJD8GO",
        "colab": {
          "base_uri": "https://localhost:8080/",
          "height": 542
        },
        "outputId": "6080143f-0f19-452d-c89b-646eb129b0c3"
      },
      "source": [
        "      count_positive =0\n",
        "      count_negative =0\n",
        "      count_neutral = 0\n",
        "      fig=go.Figure()\n",
        "      input_df = pd.read_csv(\"abc.csv\")\n",
        "      for i in range(0,input_df.shape[0]):\n",
        "            s=str(input_df.iloc[i].text)\n",
        "            s=[s]\n",
        "            test_feature = vectorizer.transform(s) \n",
        "            prediction=model.predict(test_feature)   \n",
        "            result = {'text_sentiment': prediction}\n",
        "            if result['text_sentiment']=='positive':\n",
        "                  count_positive+=1\n",
        "            elif result['text_sentiment']=='negative':\n",
        "                  count_negative+=1\n",
        "            else:\n",
        "                  count_neutral+=1\n",
        "\n",
        "      x =(\"Positive\", \"Negative\", \"Neutral\")\n",
        "      y =(count_positive, count_negative, count_neutral)\n",
        "      layout=go.Layout(\n",
        "          title = 'Multiple Reviews Analysis',\n",
        "          xaxis=dict(title='Category'),\n",
        "          yaxis=dict(title='Number of reviews' ),)\n",
        "\n",
        "      fig.update_layout(dict1=layout, overwrite=True)\n",
        "      fig.add_trace(go.Bar(name=\"Multi Reviews\", x=x, y=y))\n",
        "      fig.show()"
      ],
      "execution_count": null,
      "outputs": [
        {
          "output_type": "display_data",
          "data": {
            "text/html": [
              "<html>\n",
              "<head><meta charset=\"utf-8\" /></head>\n",
              "<body>\n",
              "    <div>\n",
              "            <script src=\"https://cdnjs.cloudflare.com/ajax/libs/mathjax/2.7.5/MathJax.js?config=TeX-AMS-MML_SVG\"></script><script type=\"text/javascript\">if (window.MathJax) {MathJax.Hub.Config({SVG: {font: \"STIX-Web\"}});}</script>\n",
              "                <script type=\"text/javascript\">window.PlotlyConfig = {MathJaxConfig: 'local'};</script>\n",
              "        <script src=\"https://cdn.plot.ly/plotly-latest.min.js\"></script>    \n",
              "            <div id=\"02d5c93f-93dc-4828-aedb-67b3c10b6cdd\" class=\"plotly-graph-div\" style=\"height:525px; width:100%;\"></div>\n",
              "            <script type=\"text/javascript\">\n",
              "                \n",
              "                    window.PLOTLYENV=window.PLOTLYENV || {};\n",
              "                    \n",
              "                if (document.getElementById(\"02d5c93f-93dc-4828-aedb-67b3c10b6cdd\")) {\n",
              "                    Plotly.newPlot(\n",
              "                        '02d5c93f-93dc-4828-aedb-67b3c10b6cdd',\n",
              "                        [{\"name\": \"Multi Reviews\", \"type\": \"bar\", \"x\": [\"Positive\", \"Negative\", \"Neutral\"], \"y\": [2810, 1692, 1383]}],\n",
              "                        {\"template\": {\"data\": {\"bar\": [{\"error_x\": {\"color\": \"#2a3f5f\"}, \"error_y\": {\"color\": \"#2a3f5f\"}, \"marker\": {\"line\": {\"color\": \"#E5ECF6\", \"width\": 0.5}}, \"type\": \"bar\"}], \"barpolar\": [{\"marker\": {\"line\": {\"color\": \"#E5ECF6\", \"width\": 0.5}}, \"type\": \"barpolar\"}], \"carpet\": [{\"aaxis\": {\"endlinecolor\": \"#2a3f5f\", \"gridcolor\": \"white\", \"linecolor\": \"white\", \"minorgridcolor\": \"white\", \"startlinecolor\": \"#2a3f5f\"}, \"baxis\": {\"endlinecolor\": \"#2a3f5f\", \"gridcolor\": \"white\", \"linecolor\": \"white\", \"minorgridcolor\": \"white\", \"startlinecolor\": \"#2a3f5f\"}, \"type\": \"carpet\"}], \"choropleth\": [{\"colorbar\": {\"outlinewidth\": 0, \"ticks\": \"\"}, \"type\": \"choropleth\"}], \"contour\": [{\"colorbar\": {\"outlinewidth\": 0, \"ticks\": \"\"}, \"colorscale\": [[0.0, \"#0d0887\"], [0.1111111111111111, \"#46039f\"], [0.2222222222222222, \"#7201a8\"], [0.3333333333333333, \"#9c179e\"], [0.4444444444444444, \"#bd3786\"], [0.5555555555555556, \"#d8576b\"], [0.6666666666666666, \"#ed7953\"], [0.7777777777777778, \"#fb9f3a\"], [0.8888888888888888, \"#fdca26\"], [1.0, \"#f0f921\"]], \"type\": \"contour\"}], \"contourcarpet\": [{\"colorbar\": {\"outlinewidth\": 0, \"ticks\": \"\"}, \"type\": \"contourcarpet\"}], \"heatmap\": [{\"colorbar\": {\"outlinewidth\": 0, \"ticks\": \"\"}, \"colorscale\": [[0.0, \"#0d0887\"], [0.1111111111111111, \"#46039f\"], [0.2222222222222222, \"#7201a8\"], [0.3333333333333333, \"#9c179e\"], [0.4444444444444444, \"#bd3786\"], [0.5555555555555556, \"#d8576b\"], [0.6666666666666666, \"#ed7953\"], [0.7777777777777778, \"#fb9f3a\"], [0.8888888888888888, \"#fdca26\"], [1.0, \"#f0f921\"]], \"type\": \"heatmap\"}], \"heatmapgl\": [{\"colorbar\": {\"outlinewidth\": 0, \"ticks\": \"\"}, \"colorscale\": [[0.0, \"#0d0887\"], [0.1111111111111111, \"#46039f\"], [0.2222222222222222, \"#7201a8\"], [0.3333333333333333, \"#9c179e\"], [0.4444444444444444, \"#bd3786\"], [0.5555555555555556, \"#d8576b\"], [0.6666666666666666, \"#ed7953\"], [0.7777777777777778, \"#fb9f3a\"], [0.8888888888888888, \"#fdca26\"], [1.0, \"#f0f921\"]], \"type\": \"heatmapgl\"}], \"histogram\": [{\"marker\": {\"colorbar\": {\"outlinewidth\": 0, \"ticks\": \"\"}}, \"type\": \"histogram\"}], \"histogram2d\": [{\"colorbar\": {\"outlinewidth\": 0, \"ticks\": \"\"}, \"colorscale\": [[0.0, \"#0d0887\"], [0.1111111111111111, \"#46039f\"], [0.2222222222222222, \"#7201a8\"], [0.3333333333333333, \"#9c179e\"], [0.4444444444444444, \"#bd3786\"], [0.5555555555555556, \"#d8576b\"], [0.6666666666666666, \"#ed7953\"], [0.7777777777777778, \"#fb9f3a\"], [0.8888888888888888, \"#fdca26\"], [1.0, \"#f0f921\"]], \"type\": \"histogram2d\"}], \"histogram2dcontour\": [{\"colorbar\": {\"outlinewidth\": 0, \"ticks\": \"\"}, \"colorscale\": [[0.0, \"#0d0887\"], [0.1111111111111111, \"#46039f\"], [0.2222222222222222, \"#7201a8\"], [0.3333333333333333, \"#9c179e\"], [0.4444444444444444, \"#bd3786\"], [0.5555555555555556, \"#d8576b\"], [0.6666666666666666, \"#ed7953\"], [0.7777777777777778, \"#fb9f3a\"], [0.8888888888888888, \"#fdca26\"], [1.0, \"#f0f921\"]], \"type\": \"histogram2dcontour\"}], \"mesh3d\": [{\"colorbar\": {\"outlinewidth\": 0, \"ticks\": \"\"}, \"type\": \"mesh3d\"}], \"parcoords\": [{\"line\": {\"colorbar\": {\"outlinewidth\": 0, \"ticks\": \"\"}}, \"type\": \"parcoords\"}], \"pie\": [{\"automargin\": true, \"type\": \"pie\"}], \"scatter\": [{\"marker\": {\"colorbar\": {\"outlinewidth\": 0, \"ticks\": \"\"}}, \"type\": \"scatter\"}], \"scatter3d\": [{\"line\": {\"colorbar\": {\"outlinewidth\": 0, \"ticks\": \"\"}}, \"marker\": {\"colorbar\": {\"outlinewidth\": 0, \"ticks\": \"\"}}, \"type\": \"scatter3d\"}], \"scattercarpet\": [{\"marker\": {\"colorbar\": {\"outlinewidth\": 0, \"ticks\": \"\"}}, \"type\": \"scattercarpet\"}], \"scattergeo\": [{\"marker\": {\"colorbar\": {\"outlinewidth\": 0, \"ticks\": \"\"}}, \"type\": \"scattergeo\"}], \"scattergl\": [{\"marker\": {\"colorbar\": {\"outlinewidth\": 0, \"ticks\": \"\"}}, \"type\": \"scattergl\"}], \"scattermapbox\": [{\"marker\": {\"colorbar\": {\"outlinewidth\": 0, \"ticks\": \"\"}}, \"type\": \"scattermapbox\"}], \"scatterpolar\": [{\"marker\": {\"colorbar\": {\"outlinewidth\": 0, \"ticks\": \"\"}}, \"type\": \"scatterpolar\"}], \"scatterpolargl\": [{\"marker\": {\"colorbar\": {\"outlinewidth\": 0, \"ticks\": \"\"}}, \"type\": \"scatterpolargl\"}], \"scatterternary\": [{\"marker\": {\"colorbar\": {\"outlinewidth\": 0, \"ticks\": \"\"}}, \"type\": \"scatterternary\"}], \"surface\": [{\"colorbar\": {\"outlinewidth\": 0, \"ticks\": \"\"}, \"colorscale\": [[0.0, \"#0d0887\"], [0.1111111111111111, \"#46039f\"], [0.2222222222222222, \"#7201a8\"], [0.3333333333333333, \"#9c179e\"], [0.4444444444444444, \"#bd3786\"], [0.5555555555555556, \"#d8576b\"], [0.6666666666666666, \"#ed7953\"], [0.7777777777777778, \"#fb9f3a\"], [0.8888888888888888, \"#fdca26\"], [1.0, \"#f0f921\"]], \"type\": \"surface\"}], \"table\": [{\"cells\": {\"fill\": {\"color\": \"#EBF0F8\"}, \"line\": {\"color\": \"white\"}}, \"header\": {\"fill\": {\"color\": \"#C8D4E3\"}, \"line\": {\"color\": \"white\"}}, \"type\": \"table\"}]}, \"layout\": {\"annotationdefaults\": {\"arrowcolor\": \"#2a3f5f\", \"arrowhead\": 0, \"arrowwidth\": 1}, \"coloraxis\": {\"colorbar\": {\"outlinewidth\": 0, \"ticks\": \"\"}}, \"colorscale\": {\"diverging\": [[0, \"#8e0152\"], [0.1, \"#c51b7d\"], [0.2, \"#de77ae\"], [0.3, \"#f1b6da\"], [0.4, \"#fde0ef\"], [0.5, \"#f7f7f7\"], [0.6, \"#e6f5d0\"], [0.7, \"#b8e186\"], [0.8, \"#7fbc41\"], [0.9, \"#4d9221\"], [1, \"#276419\"]], \"sequential\": [[0.0, \"#0d0887\"], [0.1111111111111111, \"#46039f\"], [0.2222222222222222, \"#7201a8\"], [0.3333333333333333, \"#9c179e\"], [0.4444444444444444, \"#bd3786\"], [0.5555555555555556, \"#d8576b\"], [0.6666666666666666, \"#ed7953\"], [0.7777777777777778, \"#fb9f3a\"], [0.8888888888888888, \"#fdca26\"], [1.0, \"#f0f921\"]], \"sequentialminus\": [[0.0, \"#0d0887\"], [0.1111111111111111, \"#46039f\"], [0.2222222222222222, \"#7201a8\"], [0.3333333333333333, \"#9c179e\"], [0.4444444444444444, \"#bd3786\"], [0.5555555555555556, \"#d8576b\"], [0.6666666666666666, \"#ed7953\"], [0.7777777777777778, \"#fb9f3a\"], [0.8888888888888888, \"#fdca26\"], [1.0, \"#f0f921\"]]}, \"colorway\": [\"#636efa\", \"#EF553B\", \"#00cc96\", \"#ab63fa\", \"#FFA15A\", \"#19d3f3\", \"#FF6692\", \"#B6E880\", \"#FF97FF\", \"#FECB52\"], \"font\": {\"color\": \"#2a3f5f\"}, \"geo\": {\"bgcolor\": \"white\", \"lakecolor\": \"white\", \"landcolor\": \"#E5ECF6\", \"showlakes\": true, \"showland\": true, \"subunitcolor\": \"white\"}, \"hoverlabel\": {\"align\": \"left\"}, \"hovermode\": \"closest\", \"mapbox\": {\"style\": \"light\"}, \"paper_bgcolor\": \"white\", \"plot_bgcolor\": \"#E5ECF6\", \"polar\": {\"angularaxis\": {\"gridcolor\": \"white\", \"linecolor\": \"white\", \"ticks\": \"\"}, \"bgcolor\": \"#E5ECF6\", \"radialaxis\": {\"gridcolor\": \"white\", \"linecolor\": \"white\", \"ticks\": \"\"}}, \"scene\": {\"xaxis\": {\"backgroundcolor\": \"#E5ECF6\", \"gridcolor\": \"white\", \"gridwidth\": 2, \"linecolor\": \"white\", \"showbackground\": true, \"ticks\": \"\", \"zerolinecolor\": \"white\"}, \"yaxis\": {\"backgroundcolor\": \"#E5ECF6\", \"gridcolor\": \"white\", \"gridwidth\": 2, \"linecolor\": \"white\", \"showbackground\": true, \"ticks\": \"\", \"zerolinecolor\": \"white\"}, \"zaxis\": {\"backgroundcolor\": \"#E5ECF6\", \"gridcolor\": \"white\", \"gridwidth\": 2, \"linecolor\": \"white\", \"showbackground\": true, \"ticks\": \"\", \"zerolinecolor\": \"white\"}}, \"shapedefaults\": {\"line\": {\"color\": \"#2a3f5f\"}}, \"ternary\": {\"aaxis\": {\"gridcolor\": \"white\", \"linecolor\": \"white\", \"ticks\": \"\"}, \"baxis\": {\"gridcolor\": \"white\", \"linecolor\": \"white\", \"ticks\": \"\"}, \"bgcolor\": \"#E5ECF6\", \"caxis\": {\"gridcolor\": \"white\", \"linecolor\": \"white\", \"ticks\": \"\"}}, \"title\": {\"x\": 0.05}, \"xaxis\": {\"automargin\": true, \"gridcolor\": \"white\", \"linecolor\": \"white\", \"ticks\": \"\", \"title\": {\"standoff\": 15}, \"zerolinecolor\": \"white\", \"zerolinewidth\": 2}, \"yaxis\": {\"automargin\": true, \"gridcolor\": \"white\", \"linecolor\": \"white\", \"ticks\": \"\", \"title\": {\"standoff\": 15}, \"zerolinecolor\": \"white\", \"zerolinewidth\": 2}}}, \"title\": {\"text\": \"Multiple Reviews Analysis\"}, \"xaxis\": {\"title\": {\"text\": \"Category\"}}, \"yaxis\": {\"title\": {\"text\": \"Number of reviews\"}}},\n",
              "                        {\"responsive\": true}\n",
              "                    ).then(function(){\n",
              "                            \n",
              "var gd = document.getElementById('02d5c93f-93dc-4828-aedb-67b3c10b6cdd');\n",
              "var x = new MutationObserver(function (mutations, observer) {{\n",
              "        var display = window.getComputedStyle(gd).display;\n",
              "        if (!display || display === 'none') {{\n",
              "            console.log([gd, 'removed!']);\n",
              "            Plotly.purge(gd);\n",
              "            observer.disconnect();\n",
              "        }}\n",
              "}});\n",
              "\n",
              "// Listen for the removal of the full notebook cells\n",
              "var notebookContainer = gd.closest('#notebook-container');\n",
              "if (notebookContainer) {{\n",
              "    x.observe(notebookContainer, {childList: true});\n",
              "}}\n",
              "\n",
              "// Listen for the clearing of the current output cell\n",
              "var outputEl = gd.closest('.output');\n",
              "if (outputEl) {{\n",
              "    x.observe(outputEl, {childList: true});\n",
              "}}\n",
              "\n",
              "                        })\n",
              "                };\n",
              "                \n",
              "            </script>\n",
              "        </div>\n",
              "</body>\n",
              "</html>"
            ]
          },
          "metadata": {
            "tags": []
          }
        }
      ]
    },
    {
      "cell_type": "code",
      "metadata": {
        "id": "PzOb_CU3KZKF",
        "colab": {
          "base_uri": "https://localhost:8080/"
        },
        "outputId": "2536610a-bed3-4612-b852-76fcbe64c072"
      },
      "source": [
        "test_feature = vectorizer.transform([ 'poor quality didnt like it']) \n",
        "model.predict(test_feature)"
      ],
      "execution_count": null,
      "outputs": [
        {
          "output_type": "execute_result",
          "data": {
            "text/plain": [
              "array(['negative'], dtype=object)"
            ]
          },
          "metadata": {
            "tags": []
          },
          "execution_count": 22
        }
      ]
    },
    {
      "cell_type": "code",
      "metadata": {
        "id": "A4R5ZGtSKhxT"
      },
      "source": [
        "import pickle\n",
        "pickl = {'vectorizer': vectorizer, \n",
        "          'model': model\n",
        "         } \n",
        "pickle.dump(pickl, open('models'+\".p\", \"wb\"))"
      ],
      "execution_count": null,
      "outputs": []
    }
  ]
}